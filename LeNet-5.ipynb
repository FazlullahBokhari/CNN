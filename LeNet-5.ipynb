{
 "cells": [
  {
   "cell_type": "code",
   "execution_count": 5,
   "id": "a9df3e97",
   "metadata": {},
   "outputs": [],
   "source": [
    "import tensorflow as tf\n",
    "from tensorflow import keras\n",
    "from keras.datasets import mnist\n",
    "from keras.layers import Dense, Flatten, Conv2D, AveragePooling2D\n",
    "from keras.models import Sequential"
   ]
  },
  {
   "cell_type": "code",
   "execution_count": 6,
   "id": "50ccd5c1",
   "metadata": {},
   "outputs": [],
   "source": [
    "(x_train, y_train), (x_test, y_test) = mnist.load_data()"
   ]
  },
  {
   "cell_type": "code",
   "execution_count": 9,
   "id": "932b1a5b",
   "metadata": {},
   "outputs": [
    {
     "data": {
      "text/plain": [
       "(60000, 28, 28)"
      ]
     },
     "execution_count": 9,
     "metadata": {},
     "output_type": "execute_result"
    }
   ],
   "source": [
    "x_train.shape"
   ]
  },
  {
   "cell_type": "code",
   "execution_count": 10,
   "id": "e8f6b9bd",
   "metadata": {},
   "outputs": [
    {
     "data": {
      "text/plain": [
       "60000"
      ]
     },
     "execution_count": 10,
     "metadata": {},
     "output_type": "execute_result"
    }
   ],
   "source": [
    "x_train.shape[0]"
   ]
  },
  {
   "cell_type": "code",
   "execution_count": 11,
   "id": "1e3c8e6d",
   "metadata": {},
   "outputs": [],
   "source": [
    "#performing reshaping\n",
    "\n",
    "x_train = x_train.reshape(x_train.shape[0], 28, 28, 1)\n",
    "x_test = x_test.reshape(x_test.shape[0], 28, 28, 1)"
   ]
  },
  {
   "cell_type": "code",
   "execution_count": 12,
   "id": "c09cb9e2",
   "metadata": {},
   "outputs": [
    {
     "data": {
      "text/plain": [
       "(60000, 28, 28, 1)"
      ]
     },
     "execution_count": 12,
     "metadata": {},
     "output_type": "execute_result"
    }
   ],
   "source": [
    "x_train.shape"
   ]
  },
  {
   "cell_type": "code",
   "execution_count": 13,
   "id": "b319c85b",
   "metadata": {},
   "outputs": [],
   "source": [
    "#Normalization\n",
    "\n",
    "x_train = x_train / 255 \n",
    "x_test = x_test / 255"
   ]
  },
  {
   "cell_type": "code",
   "execution_count": 14,
   "id": "3b00f1e4",
   "metadata": {},
   "outputs": [
    {
     "data": {
      "text/plain": [
       "5"
      ]
     },
     "execution_count": 14,
     "metadata": {},
     "output_type": "execute_result"
    }
   ],
   "source": [
    "y_train[0]"
   ]
  },
  {
   "cell_type": "code",
   "execution_count": 17,
   "id": "e0b48219",
   "metadata": {},
   "outputs": [],
   "source": [
    "# One hot encoding \n",
    "y_train = keras.utils.to_categorical(y_train, 10) \n",
    "y_test = keras.utils.to_categorical(y_test, 10) "
   ]
  },
  {
   "cell_type": "code",
   "execution_count": 18,
   "id": "68ca2840",
   "metadata": {},
   "outputs": [
    {
     "data": {
      "text/plain": [
       "array([0., 0., 0., 0., 0., 1., 0., 0., 0., 0.], dtype=float32)"
      ]
     },
     "execution_count": 18,
     "metadata": {},
     "output_type": "execute_result"
    }
   ],
   "source": [
    "y_train[0]"
   ]
  },
  {
   "cell_type": "code",
   "execution_count": 19,
   "id": "e5f36e35",
   "metadata": {},
   "outputs": [],
   "source": [
    "# Model Architecture"
   ]
  },
  {
   "cell_type": "code",
   "execution_count": 26,
   "id": "0be166b6",
   "metadata": {},
   "outputs": [
    {
     "name": "stdout",
     "output_type": "stream",
     "text": [
      "Model: \"sequential_1\"\n",
      "_________________________________________________________________\n",
      " Layer (type)                Output Shape              Param #   \n",
      "=================================================================\n",
      " conv2d_2 (Conv2D)           (None, 24, 24, 6)         156       \n",
      "                                                                 \n",
      " average_pooling2d_2 (Averag  (None, 12, 12, 6)        0         \n",
      " ePooling2D)                                                     \n",
      "                                                                 \n",
      " conv2d_3 (Conv2D)           (None, 8, 8, 16)          2416      \n",
      "                                                                 \n",
      " average_pooling2d_3 (Averag  (None, 4, 4, 16)         0         \n",
      " ePooling2D)                                                     \n",
      "                                                                 \n",
      " flatten_1 (Flatten)         (None, 256)               0         \n",
      "                                                                 \n",
      " dense_3 (Dense)             (None, 120)               30840     \n",
      "                                                                 \n",
      " dense_4 (Dense)             (None, 84)                10164     \n",
      "                                                                 \n",
      " dense_5 (Dense)             (None, 10)                850       \n",
      "                                                                 \n",
      "=================================================================\n",
      "Total params: 44,426\n",
      "Trainable params: 44,426\n",
      "Non-trainable params: 0\n",
      "_________________________________________________________________\n"
     ]
    }
   ],
   "source": [
    "model = Sequential() \n",
    "\n",
    "model.add(Conv2D(6, kernel_size=(5,5), padding=\"valid\", activation=\"tanh\", input_shape=(28,28,1)))\n",
    "model.add(AveragePooling2D(pool_size=(2,2), strides=2, padding=\"valid\")) \n",
    "\n",
    "model.add(Conv2D(16, kernel_size=(5,5), padding=\"valid\", activation=\"tanh\"))\n",
    "model.add(AveragePooling2D(pool_size=(2,2), strides=2, padding=\"valid\"))\n",
    "\n",
    "model.add(Flatten())\n",
    "model.add(Dense(120, activation=\"tanh\"))\n",
    "model.add(Dense(84, activation=\"tanh\"))\n",
    "model.add(Dense(10, activation=\"softmax\"))\n",
    "\n",
    "model.summary()"
   ]
  },
  {
   "cell_type": "code",
   "execution_count": 27,
   "id": "8005b9e6",
   "metadata": {},
   "outputs": [],
   "source": [
    "model.compile(loss=keras.metrics.categorical_crossentropy, optimizer=\"Adam\", metrics=['accuracy'])"
   ]
  },
  {
   "cell_type": "code",
   "execution_count": 28,
   "id": "4a9fefea",
   "metadata": {},
   "outputs": [
    {
     "name": "stdout",
     "output_type": "stream",
     "text": [
      "Epoch 1/10\n",
      "469/469 [==============================] - 20s 37ms/step - loss: 0.3489 - accuracy: 0.9009 - val_loss: 0.1551 - val_accuracy: 0.9536\n",
      "Epoch 2/10\n",
      "469/469 [==============================] - 17s 37ms/step - loss: 0.1295 - accuracy: 0.9610 - val_loss: 0.0953 - val_accuracy: 0.9704\n",
      "Epoch 3/10\n",
      "469/469 [==============================] - 17s 37ms/step - loss: 0.0853 - accuracy: 0.9743 - val_loss: 0.0796 - val_accuracy: 0.9739\n",
      "Epoch 4/10\n",
      "469/469 [==============================] - 17s 37ms/step - loss: 0.0651 - accuracy: 0.9794 - val_loss: 0.0712 - val_accuracy: 0.9775\n",
      "Epoch 5/10\n",
      "469/469 [==============================] - 17s 37ms/step - loss: 0.0510 - accuracy: 0.9842 - val_loss: 0.0591 - val_accuracy: 0.9810\n",
      "Epoch 6/10\n",
      "469/469 [==============================] - 18s 38ms/step - loss: 0.0430 - accuracy: 0.9865 - val_loss: 0.0512 - val_accuracy: 0.9841\n",
      "Epoch 7/10\n",
      "469/469 [==============================] - 17s 37ms/step - loss: 0.0363 - accuracy: 0.9889 - val_loss: 0.0572 - val_accuracy: 0.9807\n",
      "Epoch 8/10\n",
      "469/469 [==============================] - 17s 37ms/step - loss: 0.0313 - accuracy: 0.9898 - val_loss: 0.0512 - val_accuracy: 0.9841\n",
      "Epoch 9/10\n",
      "469/469 [==============================] - 18s 37ms/step - loss: 0.0273 - accuracy: 0.9913 - val_loss: 0.0431 - val_accuracy: 0.9861\n",
      "Epoch 10/10\n",
      "469/469 [==============================] - 18s 38ms/step - loss: 0.0232 - accuracy: 0.9927 - val_loss: 0.0411 - val_accuracy: 0.9858\n"
     ]
    },
    {
     "data": {
      "text/plain": [
       "<keras.callbacks.History at 0x1d41d3b33d0>"
      ]
     },
     "execution_count": 28,
     "metadata": {},
     "output_type": "execute_result"
    }
   ],
   "source": [
    "model.fit(x_train, y_train, batch_size= 128, epochs=10, verbose=1, validation_data=(x_test, y_test))"
   ]
  },
  {
   "cell_type": "code",
   "execution_count": 29,
   "id": "adff51c1",
   "metadata": {},
   "outputs": [
    {
     "name": "stdout",
     "output_type": "stream",
     "text": [
      "313/313 [==============================] - 3s 10ms/step - loss: 0.0411 - accuracy: 0.9858\n",
      "Test loss:  0.04106792435050011\n",
      "Test Accuracy:  0.98580002784729\n"
     ]
    }
   ],
   "source": [
    "score = model.evaluate(x_test, y_test)\n",
    "\n",
    "print(\"Test loss: \", score[0])\n",
    "print(\"Test Accuracy: \", score[1])"
   ]
  },
  {
   "cell_type": "code",
   "execution_count": null,
   "id": "4c79ea78",
   "metadata": {},
   "outputs": [],
   "source": []
  }
 ],
 "metadata": {
  "kernelspec": {
   "display_name": "Python 3 (ipykernel)",
   "language": "python",
   "name": "python3"
  },
  "language_info": {
   "codemirror_mode": {
    "name": "ipython",
    "version": 3
   },
   "file_extension": ".py",
   "mimetype": "text/x-python",
   "name": "python",
   "nbconvert_exporter": "python",
   "pygments_lexer": "ipython3",
   "version": "3.9.13"
  }
 },
 "nbformat": 4,
 "nbformat_minor": 5
}
